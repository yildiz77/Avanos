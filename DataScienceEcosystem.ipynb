{
  "nbformat": 4,
  "nbformat_minor": 0,
  "metadata": {
    "colab": {
      "provenance": [],
      "authorship_tag": "ABX9TyP/8XThe93eaEjHKsaGmbDR",
      "include_colab_link": true
    },
    "kernelspec": {
      "name": "python3",
      "display_name": "Python 3"
    },
    "language_info": {
      "name": "python"
    }
  },
  "cells": [
    {
      "cell_type": "markdown",
      "metadata": {
        "id": "view-in-github",
        "colab_type": "text"
      },
      "source": [
        "<a href=\"https://colab.research.google.com/github/yildiz77/Avanos/blob/main/DataScienceEcosystem.ipynb\" target=\"_parent\"><img src=\"https://colab.research.google.com/assets/colab-badge.svg\" alt=\"Open In Colab\"/></a>"
      ]
    },
    {
      "cell_type": "markdown",
      "source": [
        "Data Science Tools and Ecosystem\n",
        "\n",
        "In this notebook, Data Science Tools and Ecosystem are summarized.\n",
        "\n",
        "Some of the popular languages that Data Scientists use are:\n",
        "\n",
        "1- Python\n",
        "2- Java\n",
        "3- Julia\n",
        "4- R\n",
        "5- SQL\n",
        "\n",
        "\n",
        "Some of the commonly used libraries used by Data Scientists include:\n",
        "\n",
        "Python:\n",
        "        1- Pandas\n",
        "        2- NumPy\n",
        "        3- Scikit-learn\n",
        "        4- TensorFlow\n",
        "        5- PyTorch\n",
        "R:\n",
        "        1-dplyr\n",
        "        2-ggplot2\n",
        "        3-tidyr\n",
        "\n",
        "| Data Science Tools |\n",
        "----------------------\n",
        "| Jupyter Notebook |\n",
        "----------------------\n",
        "| RStudio |\n",
        "----------------------\n",
        "| VS Code |\n",
        "----------------------"
      ],
      "metadata": {
        "id": "zpZUMdVGuNCT"
      }
    },
    {
      "cell_type": "code",
      "source": [
        "(3 * 4) + 5"
      ],
      "metadata": {
        "colab": {
          "base_uri": "https://localhost:8080/"
        },
        "id": "LsvT5xg3vFEk",
        "outputId": "1ba57771-91a5-4ead-be3d-efd05ec149a0"
      },
      "execution_count": 3,
      "outputs": [
        {
          "output_type": "execute_result",
          "data": {
            "text/plain": [
              "17"
            ]
          },
          "metadata": {},
          "execution_count": 3
        }
      ]
    },
    {
      "cell_type": "code",
      "source": [
        "minutes = 120\n",
        "hours = minutes / 60\n",
        "print(\"Hours:\", hours)"
      ],
      "metadata": {
        "colab": {
          "base_uri": "https://localhost:8080/"
        },
        "id": "5Is-RgIPvJOO",
        "outputId": "839d42ea-4061-4b95-ccca-580ba9166328"
      },
      "execution_count": 4,
      "outputs": [
        {
          "output_type": "stream",
          "name": "stdout",
          "text": [
            "Hours: 2.0\n"
          ]
        }
      ]
    },
    {
      "cell_type": "markdown",
      "source": [
        "Author:\n",
        "\n",
        "Köksal\n",
        "\n",
        "Objectives:\n",
        "\n",
        "Learn basic arithmetic operations in Python.\n",
        "Understand how to convert units (minutes to hours).\n",
        "Gain familiarity with Jupyter Notebooks."
      ],
      "metadata": {
        "id": "rOz1PkPMvNL9"
      }
    }
  ]
}